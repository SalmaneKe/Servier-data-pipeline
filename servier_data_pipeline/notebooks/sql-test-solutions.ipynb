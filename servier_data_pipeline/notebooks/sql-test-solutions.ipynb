{
 "cells": [
  {
   "cell_type": "markdown",
   "metadata": {},
   "source": [
    "# SQL\n",
    "<br>\n",
    "Objectif : Réaliser des requêtes SQL claires et facilement compréhensibles.\n",
    "\n",
    "**1. Les données**\n",
    "Nous avons les tables suivantes :\n",
    "\n",
    "**TRANSACTIONS**<br>\n",
    "Cette table contient des données transactionnelles avec les infos suivantes :<br><br>\n",
    "• `date` : date à laquelle la commande a été passée<br>\n",
    "• `order_id` : identifiant unique de la commande<br>\n",
    "• `client_id` : identifiant unique du client<br>\n",
    "• `prod_id` : identifiant unique du produit acheté<br>\n",
    "• `prod_price` : prix unitaire du produit<br>\n",
    "• `prod_qty` : quantité de produit achetée\n",
    "\n",
    "**PRODUCT_NOMENCLATURE**<br>\n",
    "Cette table contient le référentiel produit c’est à dire les méta-données du produit. On y trouve les infos suivantes :<br><br>\n",
    "• `product_id` : identifiant unique du produit<br>\n",
    "• `product_type` : type de produit (DECO ou MEUBLE)<br>\n",
    "• `product_name` : le nom du produit<br>\n"
   ]
  },
  {
   "cell_type": "markdown",
   "metadata": {},
   "source": [
    "## Part 1\n",
    "<br>\n",
    "Je vous propose de commencer par réaliser une requête SQL simple permettant de trouver le chiffre d’affaires (le montant total des ventes), jour par jour, du 1er janvier 2019 au 31 décembre 2019. Le résultat sera trié sur la date à laquelle la commande a été passée.\n",
    "Je rappelle que la requête doit être claire : n’hésitez pas à utiliser les mot clefs AS permettant de nommer les\n",
    "champs dans SQL."
   ]
  },
  {
   "cell_type": "markdown",
   "metadata": {},
   "source": [
    "SELECT<br>\n",
    "&emsp;date,<br>\n",
    "&emsp;SUM(prod_price * prod_qty) AS total_sales<br>\n",
    "FROM<br>\n",
    "&emsp;`porject.dataset.TRANSACTIONS`<br>\n",
    "WHERE<br>\n",
    "&emsp;date BETWEEN '2019-01-01' AND '2019-12-31'<br>\n",
    "GROUP BY<br>\n",
    "&emsp;date<br>\n",
    "ORDER BY<br>\n",
    "&emsp;date;"
   ]
  },
  {
   "cell_type": "markdown",
   "metadata": {},
   "source": [
    "# Part 2<br>\n",
    "\n",
    "Réaliser une requête un peu plus complexe qui permet de déterminer, par client et sur la période allant du 1er janvier 2019 au 31 décembre 2019, les ventes meuble et déco réalisées."
   ]
  },
  {
   "cell_type": "markdown",
   "metadata": {},
   "source": [
    "SELECT<br>\n",
    "&emsp;T.client_id,<br>\n",
    "&emsp;SUM(T.prod_price * T.prod_qty) AS total_sales,<br>\n",
    "&emsp;P.product_type<br>\n",
    "FROM<br>\n",
    "&emsp;`your_project.your_dataset.TRANSACTIONS` T<br>\n",
    "JOIN<br>\n",
    "&emsp;`your_project.your_dataset.PRODUCT_NOMENCLATURE` P<br>\n",
    "ON<br>\n",
    "&emsp;T.prod_id = P.product_id<br>\n",
    "WHERE\n",
    "&emsp;T.date BETWEEN '2019-01-01' AND '2019-12-31'<br>\n",
    "&emsp;AND P.product_type IN ('MEUBLE', 'DECO')<br>\n",
    "GROUP BY<br>\n",
    "&emsp;T.client_id, P.product_type<br>\n",
    "ORDER BY\n",
    "&emsp;T.client_id, P.product_type;\n"
   ]
  },
  {
   "cell_type": "markdown",
   "metadata": {},
   "source": []
  }
 ],
 "metadata": {
  "language_info": {
   "name": "python"
  }
 },
 "nbformat": 4,
 "nbformat_minor": 2
}
