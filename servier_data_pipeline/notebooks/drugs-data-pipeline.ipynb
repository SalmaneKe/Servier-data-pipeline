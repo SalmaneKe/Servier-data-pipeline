{
 "cells": [
  {
   "cell_type": "markdown",
   "metadata": {},
   "source": [
    "# Servier Drugs exploratory data analysis\n",
    "#### Salmane KECHKAR\n",
    "###### GCP Cloud Architect - Data / ML Engineer"
   ]
  },
  {
   "cell_type": "markdown",
   "metadata": {},
   "source": [
    "## Setup"
   ]
  },
  {
   "cell_type": "code",
   "execution_count": 1,
   "metadata": {},
   "outputs": [
    {
     "name": "stdout",
     "output_type": "stream",
     "text": [
      "WARNING:  Python 3.5-3.7 will be deprecated on August 8th, 2023. Please use Python version 3.8 and up.\n",
      "\n",
      "If you have a compatible Python interpreter installed, you can use it by setting\n",
      "the CLOUDSDK_PYTHON environment variable to point to it.\n",
      "\n",
      "Updated property [core/account].\n",
      "WARNING:  Python 3.5-3.7 will be deprecated on August 8th, 2023. Please use Python version 3.8 and up.\n",
      "\n",
      "If you have a compatible Python interpreter installed, you can use it by setting\n",
      "the CLOUDSDK_PYTHON environment variable to point to it.\n",
      "\n",
      "Your browser has been opened to visit:\n",
      "\n",
      "    https://accounts.google.com/o/oauth2/auth?response_type=code&client_id=764086051850-6qr4p6gpi6hn506pt8ejuq83di341hur.apps.googleusercontent.com&redirect_uri=http%3A%2F%2Flocalhost%3A8085%2F&scope=openid+https%3A%2F%2Fwww.googleapis.com%2Fauth%2Fuserinfo.email+https%3A%2F%2Fwww.googleapis.com%2Fauth%2Fcloud-platform+https%3A%2F%2Fwww.googleapis.com%2Fauth%2Fsqlservice.login+https%3A%2F%2Fwww.googleapis.com%2Fauth%2Faccounts.reauth&state=lIZj7Olw3CiuVHKFGuIvrsQEjie9X1&access_type=offline&code_challenge=yIo3SDznb5hxXXVXKLJmTiDJqc-HejUeLMIfYtp17Xc&code_challenge_method=S256\n",
      "\n",
      "\n",
      "Credentials saved to file: [/Users/salmane/.config/gcloud/application_default_credentials.json]\n",
      "\n",
      "These credentials will be used by any library that requests Application Default Credentials (ADC).\n",
      "\n",
      "Quota project \"sfeir-innovation\" was added to ADC which can be used by Google client libraries for billing and quota. Note that some services may still bill the project owning the resource.\n"
     ]
    }
   ],
   "source": [
    "! gcloud config set account kechkar.s@sfeir.com\n",
    "! gcloud auth application-default login"
   ]
  },
  {
   "cell_type": "code",
   "execution_count": 2,
   "metadata": {},
   "outputs": [],
   "source": [
    "# Retrieve and set PROJECT_ID and REGION environment variables.\n",
    "PROJECT_ID = !(gcloud config get-value core/project)\n",
    "PROJECT_ID = PROJECT_ID[-1]\n",
    "REGION = !(gcloud config get-value compute/region)\n",
    "REGION = REGION[-1]\n",
    "\n",
    "GCS_BUCKET = f\"{PROJECT_ID}-sk-bucket\""
   ]
  },
  {
   "cell_type": "code",
   "execution_count": 3,
   "metadata": {},
   "outputs": [
    {
     "name": "stdout",
     "output_type": "stream",
     "text": [
      "WARNING:  Python 3.5-3.7 will be deprecated on August 8th, 2023. Please use Python version 3.8 and up.\n",
      "\n",
      "If you have a compatible Python interpreter installed, you can use it by setting\n",
      "the CLOUDSDK_PYTHON environment variable to point to it.\n",
      "\n",
      "Creating gs://sfeir-innovation-sk-bucket/...\n",
      "ServiceException: 409 A Cloud Storage bucket named 'sfeir-innovation-sk-bucket' already exists. Try another name. Bucket names must be globally unique across all Google Cloud projects, including those outside of your organization.\n"
     ]
    }
   ],
   "source": [
    "# Create a globally unique Google Cloud Storage bucket for artifact storage.\n",
    "!gsutil mb -l $REGION gs://$GCS_BUCKET"
   ]
  },
  {
   "cell_type": "code",
   "execution_count": 7,
   "metadata": {},
   "outputs": [
    {
     "name": "stdout",
     "output_type": "stream",
     "text": [
      "WARNING:  Python 3.5-3.7 will be deprecated on August 8th, 2023. Please use Python version 3.8 and up.\n",
      "\n",
      "If you have a compatible Python interpreter installed, you can use it by setting\n",
      "the CLOUDSDK_PYTHON environment variable to point to it.\n",
      "\n",
      "Copying file://../data/raw_data/clinical_trials.csv [Content-Type=text/csv]...\n",
      "Copying file://../data/raw_data/drugs.csv [Content-Type=text/csv]...            \n",
      "Copying file://../data/raw_data/pubmed.csv [Content-Type=text/csv]...           \n",
      "Copying file://../data/raw_data/pubmed.json [Content-Type=application/json]...  \n",
      "/ [4 files][  3.9 KiB/  3.9 KiB]                                                \n",
      "Operation completed over 4 objects/3.9 KiB.                                      \n"
     ]
    }
   ],
   "source": [
    "# Upload input data to bucket\n",
    "!gsutil cp -r ../data/raw_data/* gs://$GCS_BUCKET/input"
   ]
  },
  {
   "cell_type": "code",
   "execution_count": 4,
   "metadata": {},
   "outputs": [],
   "source": [
    "import yaml\n",
    "import gcsfs\n",
    "import polars as pl\n",
    "\n",
    "# Load credentials\n",
    "credentials = \"/Users/salmane/.config/gcloud/application_default_credentials.json\"\n",
    "\n",
    "# Initialize the GCS file system with the credentials\n",
    "fs = gcsfs.GCSFileSystem(project=PROJECT_ID, token=credentials)"
   ]
  },
  {
   "cell_type": "markdown",
   "metadata": {},
   "source": [
    "## Load files"
   ]
  },
  {
   "cell_type": "code",
   "execution_count": 5,
   "metadata": {},
   "outputs": [],
   "source": [
    "# paths\n",
    "\n",
    "DRUGS_FILE_PATH = f\"gs://{GCS_BUCKET}/input/drugs.csv\"\n",
    "PUBMED_CSV_FIL_PATH = f\"gs://{GCS_BUCKET}/input/pubmed.csv\"\n",
    "PUBMED_JSON_FIL_PATH = f\"gs://{GCS_BUCKET}/input/pubmed.json\"\n",
    "CLINICAL_TRIAL_FILE_PATH = f\"gs://{GCS_BUCKET}/input/clinical_trials.csv\"\n",
    "\n",
    "\n",
    "# open drugs file\n",
    "with fs.open(DRUGS_FILE_PATH, 'rb') as file:\n",
    "    # Read the CSV file using Polars\n",
    "    drugs = pl.read_csv(file)\n",
    "\n",
    "# open clinical trial file\n",
    "with fs.open(CLINICAL_TRIAL_FILE_PATH, 'rb') as file:\n",
    "    clinical_trials = pl.read_csv(file)\n",
    "    \n",
    "# open pubmed csv file\n",
    "with fs.open(PUBMED_CSV_FIL_PATH, 'rb') as file:\n",
    "    pubmed_csv = pl.read_csv(file)\n",
    "    \n",
    "# open pubmed csv file (issue detected with comma trailing)\n",
    "with fs.open(PUBMED_JSON_FIL_PATH, 'r') as file:\n",
    "    pubmed_json = pl.DataFrame(yaml.safe_load(file))\n"
   ]
  },
  {
   "cell_type": "markdown",
   "metadata": {},
   "source": [
    "## Data Cleansing"
   ]
  },
  {
   "cell_type": "markdown",
   "metadata": {},
   "source": [
    "### Clinical trials"
   ]
  },
  {
   "cell_type": "markdown",
   "metadata": {},
   "source": [
    "Some date inconsistancies are identified in clinical_trials dataframe. Let's stick on 'YYYY-MM-DD' date format"
   ]
  },
  {
   "cell_type": "code",
   "execution_count": 6,
   "metadata": {},
   "outputs": [],
   "source": [
    "# Define date formats to try\n",
    "date_formats = [\"%F\", \"%-d %B %Y\", \"%d/%m/%Y\"]\n",
    "\n",
    "# Parse dates in different formats and coalesce them into a single column\n",
    "clinical_trials = clinical_trials.with_columns(\n",
    "    pl.coalesce([\n",
    "        clinical_trials[\"date\"].str.to_date(fmt, strict=False) for fmt in date_formats\n",
    "    ]).alias(\"date\")\n",
    ")"
   ]
  },
  {
   "cell_type": "markdown",
   "metadata": {},
   "source": [
    "Also special characters are populating both columns journal and scientific title to be removed"
   ]
  },
  {
   "cell_type": "code",
   "execution_count": 8,
   "metadata": {},
   "outputs": [],
   "source": [
    "# Define the regular expression pattern\n",
    "REGEX_PATTERN = r\"(\\\\x[a-f0-9]+)+\"\n",
    "\n",
    "# Define a function to remove escape sequences\n",
    "def remove_escape_sequences(series, pattern):\n",
    "    return series.str.replace(pattern, \"\")\n",
    "\n",
    "# Apply the function to the relevant columns\n",
    "clinical_trials = clinical_trials.with_columns([\n",
    "    remove_escape_sequences(clinical_trials[\"journal\"], REGEX_PATTERN).alias(\"journal\"),\n",
    "    remove_escape_sequences(clinical_trials[\"scientific_title\"], REGEX_PATTERN).alias(\"scientific_title\")\n",
    "])"
   ]
  },
  {
   "cell_type": "code",
   "execution_count": 9,
   "metadata": {},
   "outputs": [
    {
     "data": {
      "text/html": [
       "<div><style>\n",
       ".dataframe > thead > tr,\n",
       ".dataframe > tbody > tr {\n",
       "  text-align: right;\n",
       "  white-space: pre-wrap;\n",
       "}\n",
       "</style>\n",
       "<small>shape: (8, 4)</small><table border=\"1\" class=\"dataframe\"><thead><tr><th>id</th><th>scientific_title</th><th>date</th><th>journal</th></tr><tr><td>str</td><td>str</td><td>date</td><td>str</td></tr></thead><tbody><tr><td>&quot;NCT01967433&quot;</td><td>&quot;Use of Diphenhydramine as an A…</td><td>2020-01-01</td><td>&quot;Journal of emergency nursing&quot;</td></tr><tr><td>&quot;NCT04189588&quot;</td><td>&quot;Phase 2 Study IV QUZYTTIR™ (Ce…</td><td>2020-01-01</td><td>&quot;Journal of emergency nursing&quot;</td></tr><tr><td>&quot;NCT04237090&quot;</td><td>&quot;  &quot;</td><td>2020-01-01</td><td>&quot;Journal of emergency nursing&quot;</td></tr><tr><td>&quot;NCT04237091&quot;</td><td>&quot;Feasibility of a Randomized Co…</td><td>2020-01-01</td><td>&quot;Journal of emergency nursing&quot;</td></tr><tr><td>&quot;NCT04153396&quot;</td><td>&quot;Preemptive Infiltration With B…</td><td>2020-01-01</td><td>&quot;Hôpitaux Universitaires de Gen…</td></tr><tr><td>&quot;NCT03490942&quot;</td><td>&quot;Glucagon Infusion in T1D Patie…</td><td>2020-05-25</td><td>&quot;&quot;</td></tr><tr><td>&quot;&quot;</td><td>&quot;Glucagon Infusion in T1D Patie…</td><td>2020-05-25</td><td>&quot;Journal of emergency nursing&quot;</td></tr><tr><td>&quot;NCT04188184&quot;</td><td>&quot;Tranexamic Acid Versus Epineph…</td><td>2020-04-27</td><td>&quot;Journal of emergency nursing&quot;</td></tr></tbody></table></div>"
      ],
      "text/plain": [
       "shape: (8, 4)\n",
       "┌─────────────┬─────────────────────────────────┬────────────┬─────────────────────────────────┐\n",
       "│ id          ┆ scientific_title                ┆ date       ┆ journal                         │\n",
       "│ ---         ┆ ---                             ┆ ---        ┆ ---                             │\n",
       "│ str         ┆ str                             ┆ date       ┆ str                             │\n",
       "╞═════════════╪═════════════════════════════════╪════════════╪═════════════════════════════════╡\n",
       "│ NCT01967433 ┆ Use of Diphenhydramine as an A… ┆ 2020-01-01 ┆ Journal of emergency nursing    │\n",
       "│ NCT04189588 ┆ Phase 2 Study IV QUZYTTIR™ (Ce… ┆ 2020-01-01 ┆ Journal of emergency nursing    │\n",
       "│ NCT04237090 ┆                                 ┆ 2020-01-01 ┆ Journal of emergency nursing    │\n",
       "│ NCT04237091 ┆ Feasibility of a Randomized Co… ┆ 2020-01-01 ┆ Journal of emergency nursing    │\n",
       "│ NCT04153396 ┆ Preemptive Infiltration With B… ┆ 2020-01-01 ┆ Hôpitaux Universitaires de Gen… │\n",
       "│ NCT03490942 ┆ Glucagon Infusion in T1D Patie… ┆ 2020-05-25 ┆                                 │\n",
       "│             ┆ Glucagon Infusion in T1D Patie… ┆ 2020-05-25 ┆ Journal of emergency nursing    │\n",
       "│ NCT04188184 ┆ Tranexamic Acid Versus Epineph… ┆ 2020-04-27 ┆ Journal of emergency nursing    │\n",
       "└─────────────┴─────────────────────────────────┴────────────┴─────────────────────────────────┘"
      ]
     },
     "execution_count": 9,
     "metadata": {},
     "output_type": "execute_result"
    }
   ],
   "source": [
    "clinical_trials"
   ]
  },
  {
   "cell_type": "markdown",
   "metadata": {},
   "source": [
    "Later on, In order to establish the link with pubmed dataframe let create a new column inside ``clinical_trials`` and call it `type` and set a column order"
   ]
  },
  {
   "cell_type": "code",
   "execution_count": 10,
   "metadata": {},
   "outputs": [],
   "source": [
    "# Create a new column type\n",
    "clinical_trials = clinical_trials.with_columns(\n",
    "    [pl.lit(\"clinical_trial\").alias(\"type\")]\n",
    ")\n",
    "\n",
    "# Set column order\n",
    "clinical_trials = clinical_trials.select([\n",
    "     \"type\",\"id\",\"scientific_title\",\"journal\",\"date\"\n",
    "])"
   ]
  },
  {
   "cell_type": "code",
   "execution_count": 11,
   "metadata": {},
   "outputs": [
    {
     "data": {
      "text/html": [
       "<div><style>\n",
       ".dataframe > thead > tr,\n",
       ".dataframe > tbody > tr {\n",
       "  text-align: right;\n",
       "  white-space: pre-wrap;\n",
       "}\n",
       "</style>\n",
       "<small>shape: (8, 5)</small><table border=\"1\" class=\"dataframe\"><thead><tr><th>type</th><th>id</th><th>scientific_title</th><th>journal</th><th>date</th></tr><tr><td>str</td><td>str</td><td>str</td><td>str</td><td>date</td></tr></thead><tbody><tr><td>&quot;clinical_trial&quot;</td><td>&quot;NCT01967433&quot;</td><td>&quot;Use of Diphenhydramine as an A…</td><td>&quot;Journal of emergency nursing&quot;</td><td>2020-01-01</td></tr><tr><td>&quot;clinical_trial&quot;</td><td>&quot;NCT04189588&quot;</td><td>&quot;Phase 2 Study IV QUZYTTIR™ (Ce…</td><td>&quot;Journal of emergency nursing&quot;</td><td>2020-01-01</td></tr><tr><td>&quot;clinical_trial&quot;</td><td>&quot;NCT04237090&quot;</td><td>&quot;  &quot;</td><td>&quot;Journal of emergency nursing&quot;</td><td>2020-01-01</td></tr><tr><td>&quot;clinical_trial&quot;</td><td>&quot;NCT04237091&quot;</td><td>&quot;Feasibility of a Randomized Co…</td><td>&quot;Journal of emergency nursing&quot;</td><td>2020-01-01</td></tr><tr><td>&quot;clinical_trial&quot;</td><td>&quot;NCT04153396&quot;</td><td>&quot;Preemptive Infiltration With B…</td><td>&quot;Hôpitaux Universitaires de Gen…</td><td>2020-01-01</td></tr><tr><td>&quot;clinical_trial&quot;</td><td>&quot;NCT03490942&quot;</td><td>&quot;Glucagon Infusion in T1D Patie…</td><td>&quot;&quot;</td><td>2020-05-25</td></tr><tr><td>&quot;clinical_trial&quot;</td><td>&quot;&quot;</td><td>&quot;Glucagon Infusion in T1D Patie…</td><td>&quot;Journal of emergency nursing&quot;</td><td>2020-05-25</td></tr><tr><td>&quot;clinical_trial&quot;</td><td>&quot;NCT04188184&quot;</td><td>&quot;Tranexamic Acid Versus Epineph…</td><td>&quot;Journal of emergency nursing&quot;</td><td>2020-04-27</td></tr></tbody></table></div>"
      ],
      "text/plain": [
       "shape: (8, 5)\n",
       "┌────────────────┬─────────────┬───────────────────────────┬──────────────────────────┬────────────┐\n",
       "│ type           ┆ id          ┆ scientific_title          ┆ journal                  ┆ date       │\n",
       "│ ---            ┆ ---         ┆ ---                       ┆ ---                      ┆ ---        │\n",
       "│ str            ┆ str         ┆ str                       ┆ str                      ┆ date       │\n",
       "╞════════════════╪═════════════╪═══════════════════════════╪══════════════════════════╪════════════╡\n",
       "│ clinical_trial ┆ NCT01967433 ┆ Use of Diphenhydramine as ┆ Journal of emergency     ┆ 2020-01-01 │\n",
       "│                ┆             ┆ an A…                     ┆ nursing                  ┆            │\n",
       "│ clinical_trial ┆ NCT04189588 ┆ Phase 2 Study IV          ┆ Journal of emergency     ┆ 2020-01-01 │\n",
       "│                ┆             ┆ QUZYTTIR™ (Ce…            ┆ nursing                  ┆            │\n",
       "│ clinical_trial ┆ NCT04237090 ┆                           ┆ Journal of emergency     ┆ 2020-01-01 │\n",
       "│                ┆             ┆                           ┆ nursing                  ┆            │\n",
       "│ clinical_trial ┆ NCT04237091 ┆ Feasibility of a          ┆ Journal of emergency     ┆ 2020-01-01 │\n",
       "│                ┆             ┆ Randomized Co…            ┆ nursing                  ┆            │\n",
       "│ clinical_trial ┆ NCT04153396 ┆ Preemptive Infiltration   ┆ Hôpitaux Universitaires  ┆ 2020-01-01 │\n",
       "│                ┆             ┆ With B…                   ┆ de Gen…                  ┆            │\n",
       "│ clinical_trial ┆ NCT03490942 ┆ Glucagon Infusion in T1D  ┆                          ┆ 2020-05-25 │\n",
       "│                ┆             ┆ Patie…                    ┆                          ┆            │\n",
       "│ clinical_trial ┆             ┆ Glucagon Infusion in T1D  ┆ Journal of emergency     ┆ 2020-05-25 │\n",
       "│                ┆             ┆ Patie…                    ┆ nursing                  ┆            │\n",
       "│ clinical_trial ┆ NCT04188184 ┆ Tranexamic Acid Versus    ┆ Journal of emergency     ┆ 2020-04-27 │\n",
       "│                ┆             ┆ Epineph…                  ┆ nursing                  ┆            │\n",
       "└────────────────┴─────────────┴───────────────────────────┴──────────────────────────┴────────────┘"
      ]
     },
     "execution_count": 11,
     "metadata": {},
     "output_type": "execute_result"
    }
   ],
   "source": [
    "clinical_trials\n"
   ]
  },
  {
   "cell_type": "markdown",
   "metadata": {},
   "source": [
    "### PubMed"
   ]
  },
  {
   "cell_type": "markdown",
   "metadata": {},
   "source": [
    "Let's impact the same cleaning above against pubmed datafram"
   ]
  },
  {
   "cell_type": "markdown",
   "metadata": {},
   "source": [
    "Union csv and json pubmed's files"
   ]
  },
  {
   "cell_type": "code",
   "execution_count": 12,
   "metadata": {},
   "outputs": [],
   "source": [
    "pubmed = pl.concat([pubmed_csv,pubmed_json])"
   ]
  },
  {
   "cell_type": "code",
   "execution_count": 13,
   "metadata": {},
   "outputs": [
    {
     "data": {
      "text/html": [
       "<div><style>\n",
       ".dataframe > thead > tr,\n",
       ".dataframe > tbody > tr {\n",
       "  text-align: right;\n",
       "  white-space: pre-wrap;\n",
       "}\n",
       "</style>\n",
       "<small>shape: (14, 4)</small><table border=\"1\" class=\"dataframe\"><thead><tr><th>id</th><th>title</th><th>date</th><th>journal</th></tr><tr><td>str</td><td>str</td><td>str</td><td>str</td></tr></thead><tbody><tr><td>&quot;1&quot;</td><td>&quot;A 44-year-old man with erythem…</td><td>&quot;01/01/2019&quot;</td><td>&quot;Journal of emergency nursing&quot;</td></tr><tr><td>&quot;2&quot;</td><td>&quot;An evaluation of benadryl, pyr…</td><td>&quot;01/01/2019&quot;</td><td>&quot;Journal of emergency nursing&quot;</td></tr><tr><td>&quot;3&quot;</td><td>&quot;Diphenhydramine hydrochloride …</td><td>&quot;02/01/2019&quot;</td><td>&quot;The Journal of pediatrics&quot;</td></tr><tr><td>&quot;4&quot;</td><td>&quot;Tetracycline Resistance Patter…</td><td>&quot;01/01/2020&quot;</td><td>&quot;Journal of food protection&quot;</td></tr><tr><td>&quot;5&quot;</td><td>&quot;Appositional Tetracycline bone…</td><td>&quot;02/01/2020&quot;</td><td>&quot;American journal of veterinary…</td></tr><tr><td>&hellip;</td><td>&hellip;</td><td>&hellip;</td><td>&hellip;</td></tr><tr><td>&quot;9&quot;</td><td>&quot;Gold nanoparticles synthesized…</td><td>&quot;01/01/2020&quot;</td><td>&quot;Journal of photochemistry and …</td></tr><tr><td>&quot;10&quot;</td><td>&quot;Clinical implications of umbil…</td><td>&quot;01/01/2020&quot;</td><td>&quot;The journal of maternal-fetal …</td></tr><tr><td>&quot;11&quot;</td><td>&quot;Effects of Topical Application…</td><td>&quot;01/01/2020&quot;</td><td>&quot;Journal of back and musculoske…</td></tr><tr><td>&quot;12&quot;</td><td>&quot;Comparison of pressure release…</td><td>&quot;01/03/2020&quot;</td><td>&quot;Journal of back and musculoske…</td></tr><tr><td>&quot;&quot;</td><td>&quot;Comparison of pressure BETAMET…</td><td>&quot;01/03/2020&quot;</td><td>&quot;The journal of maternal-fetal …</td></tr></tbody></table></div>"
      ],
      "text/plain": [
       "shape: (14, 4)\n",
       "┌─────┬─────────────────────────────────┬────────────┬─────────────────────────────────┐\n",
       "│ id  ┆ title                           ┆ date       ┆ journal                         │\n",
       "│ --- ┆ ---                             ┆ ---        ┆ ---                             │\n",
       "│ str ┆ str                             ┆ str        ┆ str                             │\n",
       "╞═════╪═════════════════════════════════╪════════════╪═════════════════════════════════╡\n",
       "│ 1   ┆ A 44-year-old man with erythem… ┆ 01/01/2019 ┆ Journal of emergency nursing    │\n",
       "│ 2   ┆ An evaluation of benadryl, pyr… ┆ 01/01/2019 ┆ Journal of emergency nursing    │\n",
       "│ 3   ┆ Diphenhydramine hydrochloride … ┆ 02/01/2019 ┆ The Journal of pediatrics       │\n",
       "│ 4   ┆ Tetracycline Resistance Patter… ┆ 01/01/2020 ┆ Journal of food protection      │\n",
       "│ 5   ┆ Appositional Tetracycline bone… ┆ 02/01/2020 ┆ American journal of veterinary… │\n",
       "│ …   ┆ …                               ┆ …          ┆ …                               │\n",
       "│ 9   ┆ Gold nanoparticles synthesized… ┆ 01/01/2020 ┆ Journal of photochemistry and … │\n",
       "│ 10  ┆ Clinical implications of umbil… ┆ 01/01/2020 ┆ The journal of maternal-fetal … │\n",
       "│ 11  ┆ Effects of Topical Application… ┆ 01/01/2020 ┆ Journal of back and musculoske… │\n",
       "│ 12  ┆ Comparison of pressure release… ┆ 01/03/2020 ┆ Journal of back and musculoske… │\n",
       "│     ┆ Comparison of pressure BETAMET… ┆ 01/03/2020 ┆ The journal of maternal-fetal … │\n",
       "└─────┴─────────────────────────────────┴────────────┴─────────────────────────────────┘"
      ]
     },
     "execution_count": 13,
     "metadata": {},
     "output_type": "execute_result"
    }
   ],
   "source": [
    "pubmed"
   ]
  },
  {
   "cell_type": "code",
   "execution_count": 14,
   "metadata": {},
   "outputs": [],
   "source": [
    "# format date\n",
    "pubmed = pubmed.with_columns(\n",
    "    pl.coalesce([\n",
    "        pubmed[\"date\"].str.to_date(fmt, strict=False) for fmt in date_formats\n",
    "    ]).alias(\"date\")\n",
    ")\n",
    "\n",
    "# rename title column\n",
    "pubmed = pubmed.rename({\n",
    "    \"title\":\"scientific_title\"\n",
    "})\n",
    "\n",
    "# added type column\n",
    "pubmed = pubmed.with_columns(\n",
    "    pl.lit(\"pubmed\").alias(\"type\")\n",
    ")\n",
    "\n",
    "# Reorder columns\n",
    "pubmed = pubmed.select([\n",
    "     \"type\",\"id\",\"scientific_title\",\"journal\",\"date\"\n",
    "])\n"
   ]
  },
  {
   "cell_type": "code",
   "execution_count": 15,
   "metadata": {},
   "outputs": [
    {
     "data": {
      "text/html": [
       "<div><style>\n",
       ".dataframe > thead > tr,\n",
       ".dataframe > tbody > tr {\n",
       "  text-align: right;\n",
       "  white-space: pre-wrap;\n",
       "}\n",
       "</style>\n",
       "<small>shape: (14, 5)</small><table border=\"1\" class=\"dataframe\"><thead><tr><th>type</th><th>id</th><th>scientific_title</th><th>journal</th><th>date</th></tr><tr><td>str</td><td>str</td><td>str</td><td>str</td><td>date</td></tr></thead><tbody><tr><td>&quot;pubmed&quot;</td><td>&quot;1&quot;</td><td>&quot;A 44-year-old man with erythem…</td><td>&quot;Journal of emergency nursing&quot;</td><td>2019-01-01</td></tr><tr><td>&quot;pubmed&quot;</td><td>&quot;2&quot;</td><td>&quot;An evaluation of benadryl, pyr…</td><td>&quot;Journal of emergency nursing&quot;</td><td>2019-01-01</td></tr><tr><td>&quot;pubmed&quot;</td><td>&quot;3&quot;</td><td>&quot;Diphenhydramine hydrochloride …</td><td>&quot;The Journal of pediatrics&quot;</td><td>2019-01-02</td></tr><tr><td>&quot;pubmed&quot;</td><td>&quot;4&quot;</td><td>&quot;Tetracycline Resistance Patter…</td><td>&quot;Journal of food protection&quot;</td><td>2020-01-01</td></tr><tr><td>&quot;pubmed&quot;</td><td>&quot;5&quot;</td><td>&quot;Appositional Tetracycline bone…</td><td>&quot;American journal of veterinary…</td><td>2020-01-02</td></tr><tr><td>&hellip;</td><td>&hellip;</td><td>&hellip;</td><td>&hellip;</td><td>&hellip;</td></tr><tr><td>&quot;pubmed&quot;</td><td>&quot;9&quot;</td><td>&quot;Gold nanoparticles synthesized…</td><td>&quot;Journal of photochemistry and …</td><td>2020-01-01</td></tr><tr><td>&quot;pubmed&quot;</td><td>&quot;10&quot;</td><td>&quot;Clinical implications of umbil…</td><td>&quot;The journal of maternal-fetal …</td><td>2020-01-01</td></tr><tr><td>&quot;pubmed&quot;</td><td>&quot;11&quot;</td><td>&quot;Effects of Topical Application…</td><td>&quot;Journal of back and musculoske…</td><td>2020-01-01</td></tr><tr><td>&quot;pubmed&quot;</td><td>&quot;12&quot;</td><td>&quot;Comparison of pressure release…</td><td>&quot;Journal of back and musculoske…</td><td>2020-03-01</td></tr><tr><td>&quot;pubmed&quot;</td><td>&quot;&quot;</td><td>&quot;Comparison of pressure BETAMET…</td><td>&quot;The journal of maternal-fetal …</td><td>2020-03-01</td></tr></tbody></table></div>"
      ],
      "text/plain": [
       "shape: (14, 5)\n",
       "┌────────┬─────┬─────────────────────────────────┬─────────────────────────────────┬────────────┐\n",
       "│ type   ┆ id  ┆ scientific_title                ┆ journal                         ┆ date       │\n",
       "│ ---    ┆ --- ┆ ---                             ┆ ---                             ┆ ---        │\n",
       "│ str    ┆ str ┆ str                             ┆ str                             ┆ date       │\n",
       "╞════════╪═════╪═════════════════════════════════╪═════════════════════════════════╪════════════╡\n",
       "│ pubmed ┆ 1   ┆ A 44-year-old man with erythem… ┆ Journal of emergency nursing    ┆ 2019-01-01 │\n",
       "│ pubmed ┆ 2   ┆ An evaluation of benadryl, pyr… ┆ Journal of emergency nursing    ┆ 2019-01-01 │\n",
       "│ pubmed ┆ 3   ┆ Diphenhydramine hydrochloride … ┆ The Journal of pediatrics       ┆ 2019-01-02 │\n",
       "│ pubmed ┆ 4   ┆ Tetracycline Resistance Patter… ┆ Journal of food protection      ┆ 2020-01-01 │\n",
       "│ pubmed ┆ 5   ┆ Appositional Tetracycline bone… ┆ American journal of veterinary… ┆ 2020-01-02 │\n",
       "│ …      ┆ …   ┆ …                               ┆ …                               ┆ …          │\n",
       "│ pubmed ┆ 9   ┆ Gold nanoparticles synthesized… ┆ Journal of photochemistry and … ┆ 2020-01-01 │\n",
       "│ pubmed ┆ 10  ┆ Clinical implications of umbil… ┆ The journal of maternal-fetal … ┆ 2020-01-01 │\n",
       "│ pubmed ┆ 11  ┆ Effects of Topical Application… ┆ Journal of back and musculoske… ┆ 2020-01-01 │\n",
       "│ pubmed ┆ 12  ┆ Comparison of pressure release… ┆ Journal of back and musculoske… ┆ 2020-03-01 │\n",
       "│ pubmed ┆     ┆ Comparison of pressure BETAMET… ┆ The journal of maternal-fetal … ┆ 2020-03-01 │\n",
       "└────────┴─────┴─────────────────────────────────┴─────────────────────────────────┴────────────┘"
      ]
     },
     "execution_count": 15,
     "metadata": {},
     "output_type": "execute_result"
    }
   ],
   "source": [
    "pubmed\n"
   ]
  },
  {
   "cell_type": "markdown",
   "metadata": {},
   "source": [
    "## Tasks"
   ]
  },
  {
   "cell_type": "markdown",
   "metadata": {},
   "source": [
    "**I ) Find out drugs that are mentionned in the title of both PubMed and clinical trials**\n",
    "\n",
    "Approch:\n",
    "\n",
    "- Cross the pubmed-clinical-trials-union with drugs\n",
    "- Lower cases columns drug and title \n",
    "- shortlist drugs mentionned in titles\n",
    "- output results"
   ]
  },
  {
   "cell_type": "code",
   "execution_count": 16,
   "metadata": {},
   "outputs": [],
   "source": [
    "# Union pubmed with clinical trials\n",
    "pubmed_clinical_trials = pl.concat([pubmed, clinical_trials])\n",
    "\n",
    "#\n",
    "output = pubmed_clinical_trials.join(\n",
    "    drugs, how='cross'\n",
    ").with_columns([\n",
    "    pl.col(\"scientific_title\").str.to_lowercase().str.contains(pl.col(\"drug\").str.to_lowercase()).alias(\"contains\") # check exisitings\n",
    "]).filter(\n",
    "    pl.col(\"contains\") # keep only matchs\n",
    ").select(\n",
    "    pubmed_clinical_trials.columns + drugs.columns # output results\n",
    ")\n"
   ]
  },
  {
   "cell_type": "code",
   "execution_count": 17,
   "metadata": {},
   "outputs": [
    {
     "data": {
      "text/html": [
       "<div><style>\n",
       ".dataframe > thead > tr,\n",
       ".dataframe > tbody > tr {\n",
       "  text-align: right;\n",
       "  white-space: pre-wrap;\n",
       "}\n",
       "</style>\n",
       "<small>shape: (19, 7)</small><table border=\"1\" class=\"dataframe\"><thead><tr><th>type</th><th>id</th><th>scientific_title</th><th>journal</th><th>date</th><th>atccode</th><th>drug</th></tr><tr><td>str</td><td>str</td><td>str</td><td>str</td><td>date</td><td>str</td><td>str</td></tr></thead><tbody><tr><td>&quot;pubmed&quot;</td><td>&quot;1&quot;</td><td>&quot;A 44-year-old man with erythem…</td><td>&quot;Journal of emergency nursing&quot;</td><td>2019-01-01</td><td>&quot;A04AD&quot;</td><td>&quot;DIPHENHYDRAMINE&quot;</td></tr><tr><td>&quot;pubmed&quot;</td><td>&quot;2&quot;</td><td>&quot;An evaluation of benadryl, pyr…</td><td>&quot;Journal of emergency nursing&quot;</td><td>2019-01-01</td><td>&quot;A04AD&quot;</td><td>&quot;DIPHENHYDRAMINE&quot;</td></tr><tr><td>&quot;pubmed&quot;</td><td>&quot;3&quot;</td><td>&quot;Diphenhydramine hydrochloride …</td><td>&quot;The Journal of pediatrics&quot;</td><td>2019-01-02</td><td>&quot;A04AD&quot;</td><td>&quot;DIPHENHYDRAMINE&quot;</td></tr><tr><td>&quot;pubmed&quot;</td><td>&quot;4&quot;</td><td>&quot;Tetracycline Resistance Patter…</td><td>&quot;Journal of food protection&quot;</td><td>2020-01-01</td><td>&quot;S03AA&quot;</td><td>&quot;TETRACYCLINE&quot;</td></tr><tr><td>&quot;pubmed&quot;</td><td>&quot;5&quot;</td><td>&quot;Appositional Tetracycline bone…</td><td>&quot;American journal of veterinary…</td><td>2020-01-02</td><td>&quot;S03AA&quot;</td><td>&quot;TETRACYCLINE&quot;</td></tr><tr><td>&hellip;</td><td>&hellip;</td><td>&hellip;</td><td>&hellip;</td><td>&hellip;</td><td>&hellip;</td><td>&hellip;</td></tr><tr><td>&quot;clinical_trial&quot;</td><td>&quot;NCT01967433&quot;</td><td>&quot;Use of Diphenhydramine as an A…</td><td>&quot;Journal of emergency nursing&quot;</td><td>2020-01-01</td><td>&quot;A04AD&quot;</td><td>&quot;DIPHENHYDRAMINE&quot;</td></tr><tr><td>&quot;clinical_trial&quot;</td><td>&quot;NCT04189588&quot;</td><td>&quot;Phase 2 Study IV QUZYTTIR™ (Ce…</td><td>&quot;Journal of emergency nursing&quot;</td><td>2020-01-01</td><td>&quot;A04AD&quot;</td><td>&quot;DIPHENHYDRAMINE&quot;</td></tr><tr><td>&quot;clinical_trial&quot;</td><td>&quot;NCT04237091&quot;</td><td>&quot;Feasibility of a Randomized Co…</td><td>&quot;Journal of emergency nursing&quot;</td><td>2020-01-01</td><td>&quot;A04AD&quot;</td><td>&quot;DIPHENHYDRAMINE&quot;</td></tr><tr><td>&quot;clinical_trial&quot;</td><td>&quot;NCT04153396&quot;</td><td>&quot;Preemptive Infiltration With B…</td><td>&quot;Hôpitaux Universitaires de Gen…</td><td>2020-01-01</td><td>&quot;R01AD&quot;</td><td>&quot;BETAMETHASONE&quot;</td></tr><tr><td>&quot;clinical_trial&quot;</td><td>&quot;NCT04188184&quot;</td><td>&quot;Tranexamic Acid Versus Epineph…</td><td>&quot;Journal of emergency nursing&quot;</td><td>2020-04-27</td><td>&quot;A01AD&quot;</td><td>&quot;EPINEPHRINE&quot;</td></tr></tbody></table></div>"
      ],
      "text/plain": [
       "shape: (19, 7)\n",
       "┌───────────────┬─────────────┬───────────────┬──────────────┬────────────┬─────────┬──────────────┐\n",
       "│ type          ┆ id          ┆ scientific_ti ┆ journal      ┆ date       ┆ atccode ┆ drug         │\n",
       "│ ---           ┆ ---         ┆ tle           ┆ ---          ┆ ---        ┆ ---     ┆ ---          │\n",
       "│ str           ┆ str         ┆ ---           ┆ str          ┆ date       ┆ str     ┆ str          │\n",
       "│               ┆             ┆ str           ┆              ┆            ┆         ┆              │\n",
       "╞═══════════════╪═════════════╪═══════════════╪══════════════╪════════════╪═════════╪══════════════╡\n",
       "│ pubmed        ┆ 1           ┆ A 44-year-old ┆ Journal of   ┆ 2019-01-01 ┆ A04AD   ┆ DIPHENHYDRAM │\n",
       "│               ┆             ┆ man with      ┆ emergency    ┆            ┆         ┆ INE          │\n",
       "│               ┆             ┆ erythem…      ┆ nursing      ┆            ┆         ┆              │\n",
       "│ pubmed        ┆ 2           ┆ An evaluation ┆ Journal of   ┆ 2019-01-01 ┆ A04AD   ┆ DIPHENHYDRAM │\n",
       "│               ┆             ┆ of benadryl,  ┆ emergency    ┆            ┆         ┆ INE          │\n",
       "│               ┆             ┆ pyr…          ┆ nursing      ┆            ┆         ┆              │\n",
       "│ pubmed        ┆ 3           ┆ Diphenhydrami ┆ The Journal  ┆ 2019-01-02 ┆ A04AD   ┆ DIPHENHYDRAM │\n",
       "│               ┆             ┆ ne            ┆ of           ┆            ┆         ┆ INE          │\n",
       "│               ┆             ┆ hydrochloride ┆ pediatrics   ┆            ┆         ┆              │\n",
       "│               ┆             ┆ …             ┆              ┆            ┆         ┆              │\n",
       "│ pubmed        ┆ 4           ┆ Tetracycline  ┆ Journal of   ┆ 2020-01-01 ┆ S03AA   ┆ TETRACYCLINE │\n",
       "│               ┆             ┆ Resistance    ┆ food         ┆            ┆         ┆              │\n",
       "│               ┆             ┆ Patter…       ┆ protection   ┆            ┆         ┆              │\n",
       "│ pubmed        ┆ 5           ┆ Appositional  ┆ American     ┆ 2020-01-02 ┆ S03AA   ┆ TETRACYCLINE │\n",
       "│               ┆             ┆ Tetracycline  ┆ journal of   ┆            ┆         ┆              │\n",
       "│               ┆             ┆ bone…         ┆ veterinary…  ┆            ┆         ┆              │\n",
       "│ …             ┆ …           ┆ …             ┆ …            ┆ …          ┆ …       ┆ …            │\n",
       "│ clinical_tria ┆ NCT01967433 ┆ Use of Diphen ┆ Journal of   ┆ 2020-01-01 ┆ A04AD   ┆ DIPHENHYDRAM │\n",
       "│ l             ┆             ┆ hydramine as  ┆ emergency    ┆            ┆         ┆ INE          │\n",
       "│               ┆             ┆ an A…         ┆ nursing      ┆            ┆         ┆              │\n",
       "│ clinical_tria ┆ NCT04189588 ┆ Phase 2 Study ┆ Journal of   ┆ 2020-01-01 ┆ A04AD   ┆ DIPHENHYDRAM │\n",
       "│ l             ┆             ┆ IV QUZYTTIR™  ┆ emergency    ┆            ┆         ┆ INE          │\n",
       "│               ┆             ┆ (Ce…          ┆ nursing      ┆            ┆         ┆              │\n",
       "│ clinical_tria ┆ NCT04237091 ┆ Feasibility   ┆ Journal of   ┆ 2020-01-01 ┆ A04AD   ┆ DIPHENHYDRAM │\n",
       "│ l             ┆             ┆ of a          ┆ emergency    ┆            ┆         ┆ INE          │\n",
       "│               ┆             ┆ Randomized    ┆ nursing      ┆            ┆         ┆              │\n",
       "│               ┆             ┆ Co…           ┆              ┆            ┆         ┆              │\n",
       "│ clinical_tria ┆ NCT04153396 ┆ Preemptive    ┆ Hôpitaux Uni ┆ 2020-01-01 ┆ R01AD   ┆ BETAMETHASON │\n",
       "│ l             ┆             ┆ Infiltration  ┆ versitaires  ┆            ┆         ┆ E            │\n",
       "│               ┆             ┆ With B…       ┆ de Gen…      ┆            ┆         ┆              │\n",
       "│ clinical_tria ┆ NCT04188184 ┆ Tranexamic    ┆ Journal of   ┆ 2020-04-27 ┆ A01AD   ┆ EPINEPHRINE  │\n",
       "│ l             ┆             ┆ Acid Versus   ┆ emergency    ┆            ┆         ┆              │\n",
       "│               ┆             ┆ Epineph…      ┆ nursing      ┆            ┆         ┆              │\n",
       "└───────────────┴─────────────┴───────────────┴──────────────┴────────────┴─────────┴──────────────┘"
      ]
     },
     "execution_count": 17,
     "metadata": {},
     "output_type": "execute_result"
    }
   ],
   "source": [
    "output"
   ]
  },
  {
   "cell_type": "markdown",
   "metadata": {},
   "source": [
    "**II ) Bonus **\n",
    "\n",
    "- Extract journal mentionning the highest number of drugs\n",
    "- For given drug, find out all drugs mentionned by the same journals referenced by PubMed but not clinical trials"
   ]
  },
  {
   "cell_type": "code",
   "execution_count": 18,
   "metadata": {},
   "outputs": [],
   "source": [
    "top_journals = output.group_by(\"journal\").agg(\n",
    "    pl.col(\"drug\").unique().count().alias(\"distinct_drug_count\")\n",
    ").filter(\n",
    "    pl.col(\"distinct_drug_count\") == pl.col(\"distinct_drug_count\").max()\n",
    ")\n",
    "\n",
    "# write json file\n",
    "top_journals.write_json('../data/output/output1.json')"
   ]
  },
  {
   "cell_type": "code",
   "execution_count": 19,
   "metadata": {},
   "outputs": [],
   "source": [
    "drug_name = \"ATROPINE\"\n",
    "\n",
    "drug_journals = output.filter(\n",
    "    pl.col(\"type\") == \"pubmed\"\n",
    ").filter(\n",
    "    pl.col(\"drug\") == drug_name\n",
    ")[\"journal\"].to_list()\n",
    "\n",
    "codrugs = output.filter(\n",
    "    pl.col(\"journal\").is_in(drug_journals)\n",
    ").select(\n",
    "    pl.col(\"journal\").alias(\"journal_list\"),\n",
    "    pl.col(\"drug\")\n",
    ").group_by(\n",
    "    pl.col(\"drug\")\n",
    ").all()\n",
    "codrugs.write_json('../data/output/output2.json')"
   ]
  },
  {
   "cell_type": "code",
   "execution_count": null,
   "metadata": {},
   "outputs": [],
   "source": []
  },
  {
   "cell_type": "code",
   "execution_count": null,
   "metadata": {},
   "outputs": [],
   "source": []
  }
 ],
 "metadata": {
  "kernelspec": {
   "display_name": ".venv",
   "language": "python",
   "name": "python3"
  },
  "language_info": {
   "codemirror_mode": {
    "name": "ipython",
    "version": 3
   },
   "file_extension": ".py",
   "mimetype": "text/x-python",
   "name": "python",
   "nbconvert_exporter": "python",
   "pygments_lexer": "ipython3",
   "version": "3.11.8"
  }
 },
 "nbformat": 4,
 "nbformat_minor": 2
}
